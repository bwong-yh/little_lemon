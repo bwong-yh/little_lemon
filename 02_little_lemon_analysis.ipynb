{
 "cells": [
  {
   "cell_type": "code",
   "execution_count": 1,
   "metadata": {},
   "outputs": [],
   "source": [
    "import mysql.connector.pooling as pooling\n",
    "from mysql.connector import Error "
   ]
  },
  {
   "cell_type": "markdown",
   "metadata": {},
   "source": [
    "# Task 1"
   ]
  },
  {
   "cell_type": "code",
   "execution_count": 2,
   "metadata": {},
   "outputs": [
    {
     "name": "stdout",
     "output_type": "stream",
     "text": [
      "Connection established.\n",
      "Pool name: pool_b\n",
      "Pool size: 2\n"
     ]
    }
   ],
   "source": [
    "dbconfig = {\n",
    "    'user':'root',\n",
    "    'password':'rootpass',\n",
    "    'database': 'little_lemon_db'\n",
    "}\n",
    "\n",
    "try:\n",
    "    pool = pooling.MySQLConnectionPool(\n",
    "        pool_name='pool_b',\n",
    "        pool_size=2,\n",
    "        **dbconfig\n",
    "    )\n",
    "    print('Connection established.')\n",
    "    print('Pool name:', pool.pool_name)\n",
    "    print('Pool size:', pool.pool_size)\n",
    "except pooling.Error as e:\n",
    "    print('Unable to establish connection.')\n",
    "    print(e.msg)"
   ]
  },
  {
   "cell_type": "markdown",
   "metadata": {},
   "source": [
    "# Task 2"
   ]
  },
  {
   "cell_type": "code",
   "execution_count": 3,
   "metadata": {},
   "outputs": [],
   "source": [
    "guests = [\n",
    "    {\n",
    "        'table_number': guest[0],\n",
    "        'first_name': guest[1],\n",
    "        'last_name': guest[2],\n",
    "        'booking_time': guest[3],\n",
    "        'employee_id': guest[4]\n",
    "    } \n",
    "    for guest in \n",
    "    [\n",
    "        [8, 'Anees', 'Java', '18:00:00', 6],\n",
    "        [5, 'Bald', 'Vin', '19:00:00', 6],\n",
    "        [12, 'Jay', 'Kon', '19:30:00', 6]\n",
    "    ]\n",
    "]"
   ]
  },
  {
   "cell_type": "code",
   "execution_count": 4,
   "metadata": {},
   "outputs": [
    {
     "name": "stdout",
     "output_type": "stream",
     "text": [
      "Guest - Jay Kon - unable to connect.\n",
      "Please try again later.\n",
      "Failed getting connection; pool exhausted\n"
     ]
    }
   ],
   "source": [
    "connections = []\n",
    "\n",
    "for index, guest in enumerate(guests):\n",
    "    insert_q = f\"\"\"INSERT INTO booking (table_no, guest_first_name, guest_last_name, booking_slot, employee_id) VALUES (\n",
    "        {guest[\"table_number\"]}, \n",
    "        '{guest[\"first_name\"]}', \n",
    "        '{guest[\"last_name\"]}', \n",
    "        '{guest[\"booking_time\"]}', \n",
    "        {guest[\"employee_id\"]}\n",
    "    )\"\"\"\n",
    "\n",
    "    try:\n",
    "        guest_connection = pool.get_connection()\n",
    "        connections.append(guest_connection)        \n",
    "        cursor = guest_connection.cursor()\n",
    "        cursor.execute(insert_q)\n",
    "        guest_connection.commit()\n",
    "    except Exception as e:\n",
    "        print(f'Guest - {guest[\"first_name\"]} {guest[\"last_name\"]} - unable to connect.')\n",
    "        print('Please try again later.')\n",
    "        print(e)"
   ]
  },
  {
   "cell_type": "code",
   "execution_count": 5,
   "metadata": {},
   "outputs": [
    {
     "name": "stdout",
     "output_type": "stream",
     "text": [
      "Connection closed.\n",
      "Connection closed.\n"
     ]
    }
   ],
   "source": [
    "for connection in connections:\n",
    "    try:\n",
    "        connection.close()\n",
    "        print('Connection closed.')\n",
    "    except Error as e:\n",
    "        print('Connection unable to return to pool')\n",
    "        print('Error message:', e.msg)"
   ]
  },
  {
   "cell_type": "markdown",
   "metadata": {},
   "source": [
    "# Task 3"
   ]
  },
  {
   "cell_type": "code",
   "execution_count": 6,
   "metadata": {},
   "outputs": [],
   "source": [
    "manager_query = \"\"\"\n",
    "SELECT employee_id, name, role\n",
    "FROM employee\n",
    "WHERE role LIKE '%Manager%'\n",
    "\"\"\"\n",
    "\n",
    "highest_salary_query = \"\"\"\n",
    "SELECT employee_id, name, annual_salary\n",
    "FROM employee\n",
    "WHERE annual_salary = (SELECT MAX(annual_salary) FROM employee)\n",
    "\"\"\"\n",
    "\n",
    "between_18_to_20_query = \"\"\"\n",
    "SELECT\n",
    "    count(booking_id) num_of_booking\n",
    "FROM booking\n",
    "WHERE HOUR(booking_slot) BETWEEN 18 AND 20\n",
    "\"\"\"\n",
    "\n",
    "guest_waiting_query = \"\"\"\n",
    "SELECT \n",
    "    booking_id,\n",
    "    CONCAT(guest_first_name, ' ', guest_last_name) guest\n",
    "FROM booking\n",
    "JOIN employee USING(employee_id)\n",
    "WHERE role = 'Receptionist'\n",
    "ORDER BY booking_slot\n",
    "\"\"\""
   ]
  },
  {
   "cell_type": "code",
   "execution_count": 7,
   "metadata": {},
   "outputs": [
    {
     "name": "stdout",
     "output_type": "stream",
     "text": [
      "Little Lemon Mangers\n",
      "employee_id: 1, 2, \n",
      "name: Mario Gollini, Adrian Gollini, \n",
      "role: Manager, Assistant Manager, \n",
      "\n",
      "Highest Annual Salary\n",
      "employee_id: 1, \n",
      "name: Mario Gollini, \n",
      "annual_salary: $70,000, \n",
      "\n",
      "Bookings Between 18:00 - 20:00\n",
      "num_of_booking: 14, \n",
      "\n",
      "Waiting list\n",
      "booking_id: 7, 9, 11, 13, 15, 8, 10, 12, 14, 16, \n",
      "guest: Anees Java, Anees Java, Anees Java, Anees Java, Anees Java, Bald Vin, Bald Vin, Bald Vin, Bald Vin, Bald Vin, \n",
      "\n"
     ]
    }
   ],
   "source": [
    "query_list = [manager_query, highest_salary_query, between_18_to_20_query, guest_waiting_query]\n",
    "\n",
    "for index, q in enumerate(query_list):\n",
    "    if index == 0: print('Little Lemon Mangers')\n",
    "    elif index == 1: print('Highest Annual Salary')\n",
    "    elif index == 2: print('Bookings Between 18:00 - 20:00')\n",
    "    elif index == 3: print('Waiting list')\n",
    "    \n",
    "    connection = pool.get_connection()\n",
    "    cursor = connection.cursor()\n",
    "\n",
    "    cursor.execute(q)\n",
    "    columns = cursor.column_names\n",
    "    dataset = cursor.fetchall()\n",
    "\n",
    "    for index, col in enumerate(columns): \n",
    "        print(col, end=': ')\n",
    "        for set in dataset:\n",
    "            print(set[index], end=', ')\n",
    "        print('')\n",
    "\n",
    "    print('')\n",
    "\n",
    "    connection.close()\n",
    "    "
   ]
  },
  {
   "cell_type": "markdown",
   "metadata": {},
   "source": [
    "# Task 4"
   ]
  },
  {
   "cell_type": "code",
   "execution_count": 8,
   "metadata": {},
   "outputs": [],
   "source": [
    "basic_sales_report_procedure = \"\"\"\n",
    "CREATE PROCEDURE IF NOT EXISTS basic_sales_report()\n",
    "BEGIN\n",
    "SELECT \n",
    "\tSUM(bill_amount) total_sales,\n",
    "    ROUND(AVG(bill_amount), 1) average_sale,\n",
    "    MIN(bill_amount) min_bill_paid,\n",
    "    MAX(bill_amount) max_bill_paid\n",
    "FROM booking_order;\n",
    "END\n",
    "\"\"\""
   ]
  },
  {
   "cell_type": "code",
   "execution_count": 9,
   "metadata": {},
   "outputs": [
    {
     "name": "stdout",
     "output_type": "stream",
     "text": [
      "total_sales: $243\n",
      "average_sale: $48.6\n",
      "min_bill_paid: $37\n",
      "max_bill_paid: $86\n"
     ]
    }
   ],
   "source": [
    "connection = pool.get_connection()\n",
    "cursor = connection.cursor()\n",
    "\n",
    "cursor.execute(basic_sales_report_procedure)\n",
    "connection.commit()\n",
    "\n",
    "cursor.callproc('basic_sales_report')\n",
    "\n",
    "columns = next(cursor.stored_results()).column_names\n",
    "results = next(cursor.stored_results())\n",
    "dataset = results.fetchall()\n",
    "\n",
    "for index, col in enumerate(columns):      \n",
    "    print(col, end=': ')\n",
    "    for set in dataset:\n",
    "        print('$', set[index], sep='')\n",
    "\n",
    "connection.close()"
   ]
  },
  {
   "cell_type": "markdown",
   "metadata": {},
   "source": [
    "# Task 5"
   ]
  },
  {
   "cell_type": "code",
   "execution_count": 10,
   "metadata": {},
   "outputs": [
    {
     "name": "stdout",
     "output_type": "stream",
     "text": [
      "booking_slot\n",
      "1. 15:00:00\n",
      "2. 17:30:00\n",
      "3. 18:00:00\n",
      "\n",
      "guest\n",
      "1. Vanessa McCarthy\n",
      "2. Marcos Romero\n",
      "3. Anees Java\n",
      "\n",
      "assignment\n",
      "1. assign to: Giorgos Dioudis [Head Chef]\n",
      "2. assign to: Fatma Kaya [Assistant Chef]\n",
      "3. assign to: John Millar [Receptionist]\n",
      "\n"
     ]
    }
   ],
   "source": [
    "connection = pool.get_connection()\n",
    "cursor = connection.cursor(buffered = True)\n",
    "\n",
    "upcoming_query = \"\"\"\n",
    "SELECT \n",
    "\tTIME_FORMAT(booking_slot, '%H:%i:%s') booking_slot,\n",
    "    CONCAT(guest_first_name, ' ', guest_last_name) guest,\n",
    "    CONCAT('assign to: ', employee.name, ' ', '[', employee.role, ']') assignment\n",
    "FROM booking\n",
    "JOIN employee USING(employee_id)\n",
    "ORDER BY booking_slot\n",
    "LIMIT 3\n",
    "\"\"\"\n",
    "\n",
    "cursor.execute(upcoming_query)\n",
    "columns = cursor.column_names\n",
    "dataset = cursor.fetchall()\n",
    "\n",
    "for index, col in enumerate(columns):      \n",
    "    print(col)\n",
    "    for i, set in enumerate(dataset):\n",
    "        print(f'{i + 1}.', set[index])\n",
    "    print('')\n",
    "\n",
    "connection.close()"
   ]
  },
  {
   "cell_type": "code",
   "execution_count": null,
   "metadata": {},
   "outputs": [],
   "source": []
  }
 ],
 "metadata": {
  "kernelspec": {
   "display_name": "Python 3",
   "language": "python",
   "name": "python3"
  },
  "language_info": {
   "codemirror_mode": {
    "name": "ipython",
    "version": 3
   },
   "file_extension": ".py",
   "mimetype": "text/x-python",
   "name": "python",
   "nbconvert_exporter": "python",
   "pygments_lexer": "ipython3",
   "version": "3.9.6"
  }
 },
 "nbformat": 4,
 "nbformat_minor": 2
}
