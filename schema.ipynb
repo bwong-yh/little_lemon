{
 "cells": [
  {
   "cell_type": "code",
   "execution_count": 1,
   "metadata": {},
   "outputs": [
    {
     "name": "stdout",
     "output_type": "stream",
     "text": [
      "Connection established.\n"
     ]
    }
   ],
   "source": [
    "import mysql.connector as connector\n",
    "\n",
    "try:\n",
    "    connection = connector.connect(\n",
    "        user=\"root\",\n",
    "        password=\"rootpass\"\n",
    "    )\n",
    "    print('Connection established.')\n",
    "except connector.Error as e:\n",
    "    print('Unable to establish connection.')\n",
    "    print(e.msg)"
   ]
  },
  {
   "cell_type": "code",
   "execution_count": 2,
   "metadata": {},
   "outputs": [],
   "source": [
    "cursor = connection.cursor()"
   ]
  },
  {
   "cell_type": "code",
   "execution_count": 3,
   "metadata": {},
   "outputs": [],
   "source": [
    "cursor.execute(\"DROP DATABASE IF EXISTS little_lemon_db\")"
   ]
  },
  {
   "cell_type": "code",
   "execution_count": 4,
   "metadata": {},
   "outputs": [],
   "source": [
    "cursor.execute(\"CREATE DATABASE little_lemon_db\") "
   ]
  },
  {
   "cell_type": "code",
   "execution_count": 5,
   "metadata": {},
   "outputs": [],
   "source": [
    "cursor.execute(\"USE little_lemon_db\")"
   ]
  },
  {
   "cell_type": "code",
   "execution_count": 6,
   "metadata": {},
   "outputs": [],
   "source": [
    "create_menu_item = \"\"\"\n",
    "CREATE TABLE menu_item (\n",
    "    item_id INT AUTO_INCREMENT,\n",
    "    name VARCHAR(200),\n",
    "    type VARCHAR(100),\n",
    "    price INT,\n",
    "    PRIMARY KEY (item_id)\n",
    ");\n",
    "\"\"\"\n",
    "\n",
    "create_menu = \"\"\"\n",
    "CREATE TABLE menu (\n",
    "    menu_id INT AUTO_INCREMENT,\n",
    "    item_id INT,\n",
    "    cuisine VARCHAR(100),\n",
    "    PRIMARY KEY (menu_id, item_id)\n",
    ");\n",
    "\"\"\"\n",
    "\n",
    "create_booking = \"\"\"\n",
    "CREATE TABLE booking (\n",
    "    booking_id INT AUTO_INCREMENT,\n",
    "    table_no INT,\n",
    "    guest_first_name VARCHAR(100) NOT NULL,\n",
    "    guest_last_name VARCHAR(100) NOT NULL,\n",
    "    booking_slot TIME NOT NULL,\n",
    "    employee_id INT,\n",
    "    PRIMARY KEY (booking_id)\n",
    ");\n",
    "\"\"\"\n",
    "\n",
    "create_booking_order = \"\"\"\n",
    "CREATE TABLE booking_order (\n",
    "    order_id INT AUTO_INCREMENT,\n",
    "    table_no INT,\n",
    "    menu_id INT,\n",
    "    booking_id INT,\n",
    "    bill_amount INT,\n",
    "    quantity INT,\n",
    "    PRIMARY KEY (order_id, table_no)\n",
    ");\n",
    "\"\"\"\n",
    "\n",
    "create_employee = \"\"\"\n",
    "CREATE TABLE employee (\n",
    "    employee_id INT AUTO_INCREMENT,\n",
    "    name VARCHAR(255),\n",
    "    role VARCHAR(100),\n",
    "    address VARCHAR(255),\n",
    "    contact_number INT,\n",
    "    email VARCHAR(255),\n",
    "    annual_salary VARCHAR(100),\n",
    "    PRIMARY KEY (employee_id)\n",
    ");\n",
    "\"\"\""
   ]
  },
  {
   "cell_type": "code",
   "execution_count": 7,
   "metadata": {},
   "outputs": [],
   "source": [
    "cursor.execute(create_menu_item)\n",
    "cursor.execute(create_menu)\n",
    "cursor.execute(create_booking)\n",
    "cursor.execute(create_booking_order)\n",
    "cursor.execute(create_employee)"
   ]
  },
  {
   "cell_type": "code",
   "execution_count": 8,
   "metadata": {},
   "outputs": [],
   "source": [
    "insert_menu_item = \"\"\"\n",
    "INSERT INTO menu_item (name, type, price) VALUES\n",
    "    ('Olives','Starters',5),\n",
    "    ('Flatbread','Starters', 5),\n",
    "    ('Minestrone', 'Starters', 8),\n",
    "    ('Tomato bread','Starters', 8),\n",
    "    ('Falafel', 'Starters', 7),\n",
    "    ('Hummus', 'Starters', 5),\n",
    "    ('Greek salad', 'Main Courses', 15),\n",
    "    ('Bean soup', 'Main Courses', 12),\n",
    "    ('Pizza', 'Main Courses', 15),\n",
    "    ('Greek yoghurt','Desserts', 7),\n",
    "    ('Ice cream', 'Desserts', 6),\n",
    "    ('Cheesecake', 'Desserts', 4),\n",
    "    ('Athens White wine', 'Drinks', 25),\n",
    "    ('Corfu Red Wine', 'Drinks', 30),\n",
    "    ('Turkish Coffee', 'Drinks', 10),\n",
    "    ('Turkish Coffee', 'Drinks', 10),\n",
    "    ('Kabasa', 'Main Courses', 17);\n",
    "\"\"\"\n",
    "cursor.execute(insert_menu_item)\n",
    "connection.commit()"
   ]
  },
  {
   "cell_type": "code",
   "execution_count": 9,
   "metadata": {},
   "outputs": [],
   "source": [
    "insert_menu = \"\"\"\n",
    "INSERT INTO menu (item_id, cuisine) VALUES\n",
    "    (1, 'Greek'),\n",
    "    (7, 'Greek'),\n",
    "    (10, 'Greek'),\n",
    "    (13, 'Greek'),\n",
    "    (3, 'Italian'),\n",
    "    (9, 'Italian'),\n",
    "    (12, 'Italian'),\n",
    "    (15, 'Italian'),\n",
    "    (5, 'Turkish'),\n",
    "    (17, 'Turkish'),\n",
    "    (11, 'Turkish'),\n",
    "    (16, 'Turkish');\n",
    "\"\"\"\n",
    "cursor.execute(insert_menu)\n",
    "connection.commit()"
   ]
  },
  {
   "cell_type": "code",
   "execution_count": 10,
   "metadata": {},
   "outputs": [],
   "source": [
    "insert_booking = \"\"\"\n",
    "INSERT INTO booking (\n",
    "    table_no, \n",
    "    guest_first_name, \n",
    "    guest_last_name, \n",
    "    booking_slot, \n",
    "    employee_id\n",
    ") VALUES\n",
    "    (12, 'Anna','Iversen','19:00:00',1),\n",
    "    (12, 'Joakim', 'Iversen', '19:00:00', 1),\n",
    "    (19, 'Vanessa', 'McCarthy', '15:00:00', 3),\n",
    "    (15, 'Marcos', 'Romero', '17:30:00', 4),\n",
    "    (5, 'Hiroki', 'Yamane', '18:30:00', 2),\n",
    "    (8, 'Diana', 'Pinto', '20:00:00', 5);\n",
    "\"\"\"\n",
    "cursor.execute(insert_booking)\n",
    "connection.commit()"
   ]
  },
  {
   "cell_type": "code",
   "execution_count": 11,
   "metadata": {},
   "outputs": [],
   "source": [
    "insert_booking_order = \"\"\"\n",
    "INSERT INTO booking_order (table_no, menu_id, booking_id, quantity, bill_amount) VALUES\n",
    "    (12, 1, 1, 2, 86),\n",
    "    (19, 2, 2, 1, 37),\n",
    "    (15, 2, 3, 1, 37),\n",
    "    (5, 3, 4, 1, 40),\n",
    "    (8, 1, 5, 1, 43);\n",
    "\"\"\"\n",
    "cursor.execute(insert_booking_order)\n",
    "connection.commit()"
   ]
  },
  {
   "cell_type": "code",
   "execution_count": 12,
   "metadata": {},
   "outputs": [],
   "source": [
    "insert_employee = \"\"\"\n",
    "INSERT INTO employee (\n",
    "    name, \n",
    "    role, \n",
    "    address, \n",
    "    contact_number, \n",
    "    email, annual_salary\n",
    ") VALUES \n",
    "    ('Mario Gollini','Manager','724, Parsley Lane, Old Town, Chicago, IL',351258074,'Mario.g@littlelemon.com','$70,000'),\n",
    "    ('Adrian Gollini','Assistant Manager','334, Dill Square, Lincoln Park, Chicago, IL',351474048,'Adrian.g@littlelemon.com','$65,000'),\n",
    "    ('Giorgos Dioudis','Head Chef','879 Sage Street, West Loop, Chicago, IL',351970582,'Giorgos.d@littlelemon.com','$50,000'),\n",
    "    ('Fatma Kaya','Assistant Chef','132  Bay Lane, Chicago, IL',351963569,'Fatma.k@littlelemon.com','$45,000'),\n",
    "    ('Elena Salvai','Head Waiter','989 Thyme Square, EdgeWater, Chicago, IL',351074198,'Elena.s@littlelemon.com','$40,000'),\n",
    "    ('John Millar','Receptionist','245 Dill Square, Lincoln Park, Chicago, IL',351584508,'John.m@littlelemon.com','$35,000');\n",
    "\"\"\"\n",
    "cursor.execute(insert_employee)\n",
    "connection.commit()\n"
   ]
  },
  {
   "cell_type": "code",
   "execution_count": null,
   "metadata": {},
   "outputs": [],
   "source": []
  }
 ],
 "metadata": {
  "kernelspec": {
   "display_name": "Python 3",
   "language": "python",
   "name": "python3"
  },
  "language_info": {
   "codemirror_mode": {
    "name": "ipython",
    "version": 3
   },
   "file_extension": ".py",
   "mimetype": "text/x-python",
   "name": "python",
   "nbconvert_exporter": "python",
   "pygments_lexer": "ipython3",
   "version": "3.9.6"
  }
 },
 "nbformat": 4,
 "nbformat_minor": 2
}
