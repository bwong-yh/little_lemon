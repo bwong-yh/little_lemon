{
 "cells": [
  {
   "cell_type": "code",
   "execution_count": 218,
   "metadata": {},
   "outputs": [],
   "source": [
    "import mysql.connector.pooling as pooling;"
   ]
  },
  {
   "cell_type": "markdown",
   "metadata": {},
   "source": [
    "# Task 1: Establish a connection "
   ]
  },
  {
   "cell_type": "code",
   "execution_count": 219,
   "metadata": {},
   "outputs": [
    {
     "name": "stdout",
     "output_type": "stream",
     "text": [
      "Connection established.\n"
     ]
    }
   ],
   "source": [
    "dbconfig = {\n",
    "    'user':'root',\n",
    "    'password':'rootpass',\n",
    "    'database':'little_lemon_db'\n",
    "}\n",
    "\n",
    "try:\n",
    "    pool = pooling.MySQLConnectionPool(\n",
    "        pool_name='pool_a',\n",
    "        pool_size=2,\n",
    "        **dbconfig\n",
    "    )\n",
    "    print('Connection established.')\n",
    "except pooling.Error as e:\n",
    "    print('Unable to establish connection.')\n",
    "    print(e.msg)"
   ]
  },
  {
   "cell_type": "markdown",
   "metadata": {},
   "source": [
    "# Task 2: Implement a stored procedure called peak_hours"
   ]
  },
  {
   "cell_type": "code",
   "execution_count": 220,
   "metadata": {},
   "outputs": [],
   "source": [
    "connection1 = pool.get_connection()"
   ]
  },
  {
   "cell_type": "code",
   "execution_count": 221,
   "metadata": {},
   "outputs": [],
   "source": [
    "cursor = connection1.cursor()"
   ]
  },
  {
   "cell_type": "code",
   "execution_count": 222,
   "metadata": {},
   "outputs": [],
   "source": [
    "peak_hours_procedure = \"\"\"\n",
    "CREATE PROCEDURE IF NOT EXISTS peak_hours()\n",
    "BEGIN\n",
    "SELECT \n",
    "    TIME_FORMAT(booking_slot, '%H:%i:%s') booking_at, \n",
    "    COUNT(booking_id) count\n",
    "FROM booking\n",
    "GROUP BY TIME_FORMAT(booking_slot, '%H:%i:%s')\n",
    "ORDER BY count DESC;\n",
    "END\n",
    "\"\"\""
   ]
  },
  {
   "cell_type": "code",
   "execution_count": 223,
   "metadata": {},
   "outputs": [],
   "source": [
    "cursor.execute(peak_hours_procedure)"
   ]
  },
  {
   "cell_type": "code",
   "execution_count": 224,
   "metadata": {},
   "outputs": [
    {
     "data": {
      "text/plain": [
       "()"
      ]
     },
     "execution_count": 224,
     "metadata": {},
     "output_type": "execute_result"
    }
   ],
   "source": [
    "cursor.callproc('peak_hours')"
   ]
  },
  {
   "cell_type": "code",
   "execution_count": 225,
   "metadata": {},
   "outputs": [],
   "source": [
    "columns = next(cursor.stored_results()).column_names\n",
    "results = next(cursor.stored_results())\n",
    "dataset = results.fetchall()"
   ]
  },
  {
   "cell_type": "code",
   "execution_count": 226,
   "metadata": {},
   "outputs": [
    {
     "name": "stdout",
     "output_type": "stream",
     "text": [
      "Booking at: 19:00:00\n",
      "Number of Bookings: 2\n",
      "\n",
      "Booking at: 15:00:00\n",
      "Number of Bookings: 1\n",
      "\n",
      "Booking at: 17:30:00\n",
      "Number of Bookings: 1\n",
      "\n",
      "Booking at: 18:30:00\n",
      "Number of Bookings: 1\n",
      "\n",
      "Booking at: 20:00:00\n",
      "Number of Bookings: 1\n",
      "\n"
     ]
    }
   ],
   "source": [
    "for set in dataset:\n",
    "    print('Booking at:', set[0])\n",
    "    print('Number of Bookings:', set[1])\n",
    "    print('')"
   ]
  },
  {
   "cell_type": "code",
   "execution_count": 227,
   "metadata": {},
   "outputs": [],
   "source": [
    "connection1.close()"
   ]
  },
  {
   "cell_type": "markdown",
   "metadata": {},
   "source": [
    "# Task 3: Implement a stored procedure guest_status"
   ]
  },
  {
   "cell_type": "code",
   "execution_count": 228,
   "metadata": {},
   "outputs": [],
   "source": [
    "connection1 = pool.get_connection()\n",
    "cursor = connection1.cursor()"
   ]
  },
  {
   "cell_type": "code",
   "execution_count": 229,
   "metadata": {},
   "outputs": [],
   "source": [
    "guest_status_procedure = \"\"\"\n",
    "CREATE PROCEDURE IF NOT EXISTS guest_status()\n",
    "BEGIN\n",
    "SELECT\n",
    "    CONCAT(guest_first_name, ' ', guest_last_name) guest,\n",
    "    CASE\n",
    "        WHEN role IN ('Manager', 'Assistant Manager') THEN 'Ready to pay' \n",
    "        WHEN role = 'Head Chef' THEN 'Ready to serve' \n",
    "        WHEN role = 'Assistant Chef' THEN 'Preparing order'\n",
    "        WHEN role = 'Head Waiter' THEN 'Order served' \n",
    "        ELSE 'Waiting'\n",
    "    END order_status\n",
    "FROM booking\n",
    "LEFT JOIN employee USING(employee_id);\n",
    "END\n",
    "\"\"\""
   ]
  },
  {
   "cell_type": "code",
   "execution_count": 230,
   "metadata": {},
   "outputs": [],
   "source": [
    "cursor.execute(guest_status_procedure)"
   ]
  },
  {
   "cell_type": "code",
   "execution_count": 231,
   "metadata": {},
   "outputs": [
    {
     "data": {
      "text/plain": [
       "()"
      ]
     },
     "execution_count": 231,
     "metadata": {},
     "output_type": "execute_result"
    }
   ],
   "source": [
    "cursor.callproc('guest_status')"
   ]
  },
  {
   "cell_type": "code",
   "execution_count": 232,
   "metadata": {},
   "outputs": [],
   "source": [
    "columns = next(cursor.stored_results()).column_names\n",
    "results = next(cursor.stored_results())\n",
    "dataset = results.fetchall()"
   ]
  },
  {
   "cell_type": "code",
   "execution_count": 233,
   "metadata": {},
   "outputs": [
    {
     "name": "stdout",
     "output_type": "stream",
     "text": [
      "Guest: Anna Iversen\n",
      "Status: Ready to pay\n",
      "\n",
      "Guest: Joakim Iversen\n",
      "Status: Ready to pay\n",
      "\n",
      "Guest: Vanessa McCarthy\n",
      "Status: Ready to serve\n",
      "\n",
      "Guest: Marcos Romero\n",
      "Status: Preparing order\n",
      "\n",
      "Guest: Hiroki Yamane\n",
      "Status: Ready to pay\n",
      "\n",
      "Guest: Diana Pinto\n",
      "Status: Order served\n",
      "\n"
     ]
    }
   ],
   "source": [
    "for set in dataset:\n",
    "    print('Guest:', set[0])\n",
    "    print('Status:', set[1])\n",
    "    print('')"
   ]
  },
  {
   "cell_type": "code",
   "execution_count": 234,
   "metadata": {},
   "outputs": [],
   "source": [
    "connection1.close()"
   ]
  },
  {
   "cell_type": "code",
   "execution_count": null,
   "metadata": {},
   "outputs": [],
   "source": []
  }
 ],
 "metadata": {
  "kernelspec": {
   "display_name": "Python 3",
   "language": "python",
   "name": "python3"
  },
  "language_info": {
   "codemirror_mode": {
    "name": "ipython",
    "version": 3
   },
   "file_extension": ".py",
   "mimetype": "text/x-python",
   "name": "python",
   "nbconvert_exporter": "python",
   "pygments_lexer": "ipython3",
   "version": "3.9.6"
  }
 },
 "nbformat": 4,
 "nbformat_minor": 2
}
